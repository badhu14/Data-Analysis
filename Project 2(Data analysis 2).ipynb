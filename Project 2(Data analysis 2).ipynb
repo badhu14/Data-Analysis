{
 "cells": [
  {
   "cell_type": "code",
   "execution_count": 1,
   "id": "0cc324ba",
   "metadata": {},
   "outputs": [],
   "source": [
    "import pandas as pd\n",
    "import numpy as np"
   ]
  },
  {
   "cell_type": "code",
   "execution_count": 2,
   "id": "4075b410",
   "metadata": {},
   "outputs": [],
   "source": [
    "police = pd.read_csv(\"police.csv\")"
   ]
  },
  {
   "cell_type": "code",
   "execution_count": 5,
   "id": "4732adff",
   "metadata": {},
   "outputs": [
    {
     "data": {
      "text/plain": [
       "driver_age_raw    1970.491228\n",
       "driver_age          34.011333\n",
       "dtype: float64"
      ]
     },
     "execution_count": 5,
     "metadata": {},
     "output_type": "execute_result"
    }
   ],
   "source": [
    "cols = ['driver_age_raw', 'driver_age']\n",
    "police[cols].mean()"
   ]
  },
  {
   "cell_type": "code",
   "execution_count": 6,
   "id": "0e3cb14f",
   "metadata": {},
   "outputs": [
    {
     "data": {
      "text/plain": [
       "driver_age_raw    110.914909\n",
       "driver_age         12.738564\n",
       "dtype: float64"
      ]
     },
     "execution_count": 6,
     "metadata": {},
     "output_type": "execute_result"
    }
   ],
   "source": [
    "police[cols].std()"
   ]
  },
  {
   "cell_type": "code",
   "execution_count": 7,
   "id": "45e2c7ab",
   "metadata": {},
   "outputs": [
    {
     "data": {
      "text/plain": [
       "driver_age_raw    8801.0\n",
       "driver_age          99.0\n",
       "dtype: float64"
      ]
     },
     "execution_count": 7,
     "metadata": {},
     "output_type": "execute_result"
    }
   ],
   "source": [
    "police[cols].max()"
   ]
  }
 ],
 "metadata": {
  "kernelspec": {
   "display_name": "Python 3 (ipykernel)",
   "language": "python",
   "name": "python3"
  },
  "language_info": {
   "codemirror_mode": {
    "name": "ipython",
    "version": 3
   },
   "file_extension": ".py",
   "mimetype": "text/x-python",
   "name": "python",
   "nbconvert_exporter": "python",
   "pygments_lexer": "ipython3",
   "version": "3.9.12"
  }
 },
 "nbformat": 4,
 "nbformat_minor": 5
}
